{
 "cells": [
  {
   "cell_type": "markdown",
   "metadata": {},
   "source": [
    "# Cosine Similarity "
   ]
  },
  {
   "cell_type": "code",
   "execution_count": 22,
   "metadata": {},
   "outputs": [],
   "source": [
    "import numpy as np \n",
    "import pandas as pd\n",
    "import matplotlib.pyplot as plt\n",
    "import nltk \n",
    "from nltk import *\n",
    "from nltk.corpus import stopwords\n",
    "from nltk.corpus import wordnet as wn\n",
    "from nltk.stem import WordNetLemmatizer\n",
    "\n",
    "from sklearn.feature_extraction.text import TfidfVectorizer\n",
    "from sklearn.feature_extraction.text import CountVectorizer\n",
    "from sklearn.model_selection import train_test_split\n",
    "from sklearn.naive_bayes import GaussianNB\n",
    "\n",
    "\n",
    "from nltk.probability import FreqDist\n",
    "import string\n",
    "from sklearn.ensemble import RandomForestClassifier\n",
    "from sklearn.datasets import make_classification\n",
    "from sklearn.linear_model import LogisticRegression\n",
    "from sklearn.discriminant_analysis import LinearDiscriminantAnalysis\n",
    "import warnings\n",
    "warnings.filterwarnings('ignore')"
   ]
  },
  {
   "cell_type": "markdown",
   "metadata": {},
   "source": [
    "### Data Information\n",
    "\n",
    "Given the title of a fake news article A and the title of a coming news article B, participants are asked to classify B into one of the three categories.\n",
    "\n",
    "- agreed: B talks about the same fake news as A\n",
    "- disagreed: B refutes the fake news in A\n",
    "- unrelated: B is unrelated to A\n",
    "\n",
    "### Data fields\n",
    "\n",
    "- id - the id of each news pair.\n",
    "- tid1 - the id of fake news title 1.\n",
    "- tid2 - the id of news title 2.\n",
    "- title1_zh - the fake news title 1 in Chinese.\n",
    "- title2_zh - the news title 2 in Chinese.\n",
    "- title1_en - the fake news title 1 in English.\n",
    "- title2_en - the news title 2 in English.\n",
    "- label - indicates the relation between the news pair: agreed/disagreed/unrelated.\n",
    "- The English titles are machine translated from the related Chinese titles. This may help participants from all background to get better understanding of the datasets. Participants are highly recommended to use the Chinese version titles to finish the task.\n",
    "\n",
    "### File type\n",
    "\n",
    "- train.csv - training data contains 320,767 news pairs in both Chinese and English. This file provides the only data you can use to finish the task. Using external data is not allowed."
   ]
  },
  {
   "cell_type": "code",
   "execution_count": 23,
   "metadata": {},
   "outputs": [],
   "source": [
    "def load_data(path):\n",
    "    \n",
    "    data = pd.read_csv(path)\n",
    "    data = data.set_index(\"id\")\n",
    "    data = data.sort_index()\n",
    "    \n",
    "    return data "
   ]
  },
  {
   "cell_type": "markdown",
   "metadata": {},
   "source": [
    "### Approach \n",
    "\n",
    "We have to come up with an idea to match Title 1 and Title 2  that can give a probability distribution describing the boundary condition for each of the three classes. The following are the ways we can do: -\n",
    "\n",
    "1) Let's try to find cosine similarity of the two titles. This can be our random variable and we can check whether it can help us to classify the random variable. \n",
    "\n",
    "-  Tokenize \n",
    "-  Form a uniform vector \n",
    "-  find the cosine of the two vector."
   ]
  },
  {
   "cell_type": "markdown",
   "metadata": {},
   "source": [
    "### Applying Cosine Similarity "
   ]
  },
  {
   "cell_type": "markdown",
   "metadata": {},
   "source": [
    "******************"
   ]
  },
  {
   "cell_type": "markdown",
   "metadata": {},
   "source": [
    "1) TextProcessing :- Three functions are created to find the final vector of each title. Combining all the three functions below, TextProcessing function is created.  \n",
    "- RemovePunctuation : Function to remove punctuaiton from the text documents \n",
    "- Tokenize : Function to tokenize the text document. Returns a list of array where each element is token. \n",
    "- StopWordRemoval : Function to remove the Stop words from the text documents. \n",
    "- Lemmatization : Function to remove the prefix and suffix of the words and return the lemma of the word. "
   ]
  },
  {
   "cell_type": "code",
   "execution_count": 24,
   "metadata": {},
   "outputs": [],
   "source": [
    "## Function to remove Punctuation from the string, even attached to the word. \n",
    "def RemovePunctuation(my_str):\n",
    "    punctuations = string.punctuation\n",
    "    no_punct = \"\"\n",
    "    for char in my_str:\n",
    "        if char not in punctuations:\n",
    "            no_punct = no_punct + char.lower()\n",
    "            \n",
    "    return no_punct"
   ]
  },
  {
   "cell_type": "code",
   "execution_count": 25,
   "metadata": {},
   "outputs": [],
   "source": [
    "## Tokenize the string\n",
    "def Tokenize(my_str):\n",
    "    text = my_str.split()\n",
    "    return text"
   ]
  },
  {
   "cell_type": "code",
   "execution_count": 37,
   "metadata": {},
   "outputs": [],
   "source": [
    "## Remove Stop Word \n",
    "stopwords = set(stopwords.words('english'))\n",
    "def StopWordRemoval(my_str):\n",
    "    \n",
    "    l = [word for word in my_str if word not in stopwords]\n",
    "    return l"
   ]
  },
  {
   "cell_type": "code",
   "execution_count": 36,
   "metadata": {},
   "outputs": [],
   "source": [
    "## Remove Suffix and prefix from the word. \n",
    "lemmatizer = WordNetLemmatizer()\n",
    "def lemma(my_str):\n",
    "    \n",
    "    l = [lemmatizer.lemmatize(word) for word in my_str]\n",
    "    return l"
   ]
  },
  {
   "cell_type": "code",
   "execution_count": 28,
   "metadata": {},
   "outputs": [],
   "source": [
    "## Applying the above functions altogether\n",
    "def TextProcessing(text):\n",
    "    \n",
    "    text = RemovePunctuation(text)\n",
    "    text = Tokenize(text)\n",
    "    text = StopWordRemoval(text)\n",
    "    text = lemma(text)\n",
    "    \n",
    "    return text"
   ]
  },
  {
   "cell_type": "markdown",
   "metadata": {},
   "source": [
    "2) BagOfWords :- This function create a set of all the unique words (tokens) in the two titles (title 1 and title 2). We shall use this to create a seperate column in the dataframe consisting of all the unique words in the two titles."
   ]
  },
  {
   "cell_type": "code",
   "execution_count": 29,
   "metadata": {},
   "outputs": [],
   "source": [
    "def BagOfWords(list_str):\n",
    "    dic =  list(set(list_str))\n",
    "    return dic"
   ]
  },
  {
   "cell_type": "markdown",
   "metadata": {},
   "source": [
    "3) TermFrequency :- This function will find the frequency of each word of the dictionary in the given list. This function returns a  frequency vector of a size equivalent to the size of the dictionary. In can take a nested list in the form of Numpy array. "
   ]
  },
  {
   "cell_type": "code",
   "execution_count": 30,
   "metadata": {},
   "outputs": [],
   "source": [
    "def TermFrequency(dictionary, text ):\n",
    "    length = len(dictionary)\n",
    "    freq_list = []\n",
    "    for ii in range(length):\n",
    "        dic_list = dictionary[ii]\n",
    "        text_list = text[ii]\n",
    "        freq = []\n",
    "        for i in range(len(dic_list)):\n",
    "            freq.append(text_list.count(dic_list[i]))\n",
    "        freq_list.append(np.array(freq))\n",
    "        \n",
    "    return np.array(freq_list)"
   ]
  },
  {
   "cell_type": "markdown",
   "metadata": {},
   "source": [
    "4) L2 and Cosine : L2 function is calculate the L2 norm of the vector on the other end, Cosine is calculate the cosine of the angle between the two vectors "
   ]
  },
  {
   "cell_type": "code",
   "execution_count": 31,
   "metadata": {},
   "outputs": [],
   "source": [
    "def L2(vector):\n",
    "    norm_value = np.linalg.norm(vector)\n",
    "    return norm_value"
   ]
  },
  {
   "cell_type": "code",
   "execution_count": 32,
   "metadata": {},
   "outputs": [],
   "source": [
    "def Cosine(fr1, fr2):\n",
    "    cos = np.dot(fr1, fr2)/(L2(fr1)*L2(fr2))\n",
    "    return cos"
   ]
  },
  {
   "cell_type": "markdown",
   "metadata": {},
   "source": [
    "**********************"
   ]
  },
  {
   "cell_type": "markdown",
   "metadata": {},
   "source": [
    "##### Applying the above define funcitons on dataset"
   ]
  },
  {
   "cell_type": "code",
   "execution_count": 33,
   "metadata": {},
   "outputs": [],
   "source": [
    "def preprocess(data):\n",
    "    \"\"\"Creating another dataframe in to process the text \"\"\"\n",
    "    df = data[[\"title1_en\", \"title2_en\"]]\n",
    "    \n",
    "    \"\"\"Applying TextProcessing function\"\"\"\n",
    "    df[\"title1_en\"] = df[\"title1_en\"].apply(lambda x: TextProcessing(x))\n",
    "    df[\"title2_en\"] = df[\"title2_en\"].apply(lambda x: TextProcessing(x))\n",
    "    \n",
    "    \"\"\"Creating Dictionary column by adding tile1_en and title2_en and applying Dictionary function to\"\"\"\n",
    "    df[\"BagOfWords\"] = df['title1_en'] + df[\"title2_en\"]\n",
    "    df.BagOfWords = df.BagOfWords.map(BagOfWords)\n",
    "    \n",
    "    # Creating \"TF1\" and \"TF2\" variable containing a list of Frequency for each word in title1 and title 2 and\n",
    "    # adding a column for Cosine Similarity. \n",
    "    df[\"TF1\"] = TermFrequency(df.BagOfWords.values, df.title1_en.values)\n",
    "    df[\"TF2\"] = TermFrequency(df.BagOfWords.values, df.title2_en.values)\n",
    "    df[\"Cosine_similarity\"] = np.vectorize(Cosine)(df[\"TF1\"], df[\"TF2\"])\n",
    "    return df"
   ]
  },
  {
   "cell_type": "markdown",
   "metadata": {},
   "source": [
    "### Computing Cosine of the vector"
   ]
  },
  {
   "cell_type": "code",
   "execution_count": 34,
   "metadata": {},
   "outputs": [
    {
     "data": {
      "text/html": [
       "<div>\n",
       "<style scoped>\n",
       "    .dataframe tbody tr th:only-of-type {\n",
       "        vertical-align: middle;\n",
       "    }\n",
       "\n",
       "    .dataframe tbody tr th {\n",
       "        vertical-align: top;\n",
       "    }\n",
       "\n",
       "    .dataframe thead th {\n",
       "        text-align: right;\n",
       "    }\n",
       "</style>\n",
       "<table border=\"1\" class=\"dataframe\">\n",
       "  <thead>\n",
       "    <tr style=\"text-align: right;\">\n",
       "      <th></th>\n",
       "      <th>tid1</th>\n",
       "      <th>tid2</th>\n",
       "      <th>title1_zh</th>\n",
       "      <th>title2_zh</th>\n",
       "      <th>title1_en</th>\n",
       "      <th>title2_en</th>\n",
       "      <th>label</th>\n",
       "    </tr>\n",
       "    <tr>\n",
       "      <th>id</th>\n",
       "      <th></th>\n",
       "      <th></th>\n",
       "      <th></th>\n",
       "      <th></th>\n",
       "      <th></th>\n",
       "      <th></th>\n",
       "      <th></th>\n",
       "    </tr>\n",
       "  </thead>\n",
       "  <tbody>\n",
       "    <tr>\n",
       "      <th>0</th>\n",
       "      <td>0</td>\n",
       "      <td>1</td>\n",
       "      <td>2017养老保险又新增两项，农村老人人人可申领，你领到了吗</td>\n",
       "      <td>警方辟谣“鸟巢大会每人领5万” 仍有老人坚持进京</td>\n",
       "      <td>There are two new old-age insurance benefits f...</td>\n",
       "      <td>Police disprove \"bird's nest congress each per...</td>\n",
       "      <td>unrelated</td>\n",
       "    </tr>\n",
       "    <tr>\n",
       "      <th>1</th>\n",
       "      <td>2</td>\n",
       "      <td>4</td>\n",
       "      <td>\"你不来深圳，早晚你儿子也要来\"，不出10年深圳人均GDP将超香港</td>\n",
       "      <td>GDP首超香港？深圳澄清：还差一点点……</td>\n",
       "      <td>\"If you do not come to Shenzhen, sooner or lat...</td>\n",
       "      <td>The GDP overtopped Hong Kong? Shenzhen clarifi...</td>\n",
       "      <td>unrelated</td>\n",
       "    </tr>\n",
       "    <tr>\n",
       "      <th>2</th>\n",
       "      <td>2</td>\n",
       "      <td>5</td>\n",
       "      <td>\"你不来深圳，早晚你儿子也要来\"，不出10年深圳人均GDP将超香港</td>\n",
       "      <td>去年深圳GDP首超香港？深圳统计局辟谣：还差611亿</td>\n",
       "      <td>\"If you do not come to Shenzhen, sooner or lat...</td>\n",
       "      <td>Shenzhen's GDP topped Hong Kong last year? She...</td>\n",
       "      <td>unrelated</td>\n",
       "    </tr>\n",
       "    <tr>\n",
       "      <th>3</th>\n",
       "      <td>2</td>\n",
       "      <td>3</td>\n",
       "      <td>\"你不来深圳，早晚你儿子也要来\"，不出10年深圳人均GDP将超香港</td>\n",
       "      <td>深圳GDP首超香港？深圳统计局辟谣：只是差距在缩小</td>\n",
       "      <td>\"If you do not come to Shenzhen, sooner or lat...</td>\n",
       "      <td>Shenzhen's GDP outstrips Hong Kong? Shenzhen S...</td>\n",
       "      <td>unrelated</td>\n",
       "    </tr>\n",
       "    <tr>\n",
       "      <th>4</th>\n",
       "      <td>2</td>\n",
       "      <td>8</td>\n",
       "      <td>\"你不来深圳，早晚你儿子也要来\"，不出10年深圳人均GDP将超香港</td>\n",
       "      <td>深圳GDP首超香港？统计局辟谣：未超但差距再度缩小</td>\n",
       "      <td>\"If you do not come to Shenzhen, sooner or lat...</td>\n",
       "      <td>Shenzhen's GDP overtakes Hong Kong? Bureau of ...</td>\n",
       "      <td>unrelated</td>\n",
       "    </tr>\n",
       "  </tbody>\n",
       "</table>\n",
       "</div>"
      ],
      "text/plain": [
       "    tid1  tid2                          title1_zh                   title2_zh  \\\n",
       "id                                                                              \n",
       "0      0     1      2017养老保险又新增两项，农村老人人人可申领，你领到了吗    警方辟谣“鸟巢大会每人领5万” 仍有老人坚持进京   \n",
       "1      2     4  \"你不来深圳，早晚你儿子也要来\"，不出10年深圳人均GDP将超香港        GDP首超香港？深圳澄清：还差一点点……   \n",
       "2      2     5  \"你不来深圳，早晚你儿子也要来\"，不出10年深圳人均GDP将超香港  去年深圳GDP首超香港？深圳统计局辟谣：还差611亿   \n",
       "3      2     3  \"你不来深圳，早晚你儿子也要来\"，不出10年深圳人均GDP将超香港   深圳GDP首超香港？深圳统计局辟谣：只是差距在缩小   \n",
       "4      2     8  \"你不来深圳，早晚你儿子也要来\"，不出10年深圳人均GDP将超香港   深圳GDP首超香港？统计局辟谣：未超但差距再度缩小   \n",
       "\n",
       "                                            title1_en  \\\n",
       "id                                                      \n",
       "0   There are two new old-age insurance benefits f...   \n",
       "1   \"If you do not come to Shenzhen, sooner or lat...   \n",
       "2   \"If you do not come to Shenzhen, sooner or lat...   \n",
       "3   \"If you do not come to Shenzhen, sooner or lat...   \n",
       "4   \"If you do not come to Shenzhen, sooner or lat...   \n",
       "\n",
       "                                            title2_en      label  \n",
       "id                                                                \n",
       "0   Police disprove \"bird's nest congress each per...  unrelated  \n",
       "1   The GDP overtopped Hong Kong? Shenzhen clarifi...  unrelated  \n",
       "2   Shenzhen's GDP topped Hong Kong last year? She...  unrelated  \n",
       "3   Shenzhen's GDP outstrips Hong Kong? Shenzhen S...  unrelated  \n",
       "4   Shenzhen's GDP overtakes Hong Kong? Bureau of ...  unrelated  "
      ]
     },
     "execution_count": 34,
     "metadata": {},
     "output_type": "execute_result"
    }
   ],
   "source": [
    "## Loading data\n",
    "data = load_data(\"train.csv\")\n",
    "data.head()"
   ]
  },
  {
   "cell_type": "markdown",
   "metadata": {},
   "source": [
    "## Computing the Cosine of the vector"
   ]
  },
  {
   "cell_type": "code",
   "execution_count": 38,
   "metadata": {},
   "outputs": [],
   "source": [
    "df = preprocess(data)"
   ]
  },
  {
   "cell_type": "code",
   "execution_count": 39,
   "metadata": {},
   "outputs": [
    {
     "data": {
      "text/html": [
       "<div>\n",
       "<style scoped>\n",
       "    .dataframe tbody tr th:only-of-type {\n",
       "        vertical-align: middle;\n",
       "    }\n",
       "\n",
       "    .dataframe tbody tr th {\n",
       "        vertical-align: top;\n",
       "    }\n",
       "\n",
       "    .dataframe thead th {\n",
       "        text-align: right;\n",
       "    }\n",
       "</style>\n",
       "<table border=\"1\" class=\"dataframe\">\n",
       "  <thead>\n",
       "    <tr style=\"text-align: right;\">\n",
       "      <th></th>\n",
       "      <th>title1_en</th>\n",
       "      <th>title2_en</th>\n",
       "      <th>BagOfWords</th>\n",
       "      <th>TF1</th>\n",
       "      <th>TF2</th>\n",
       "      <th>Cosine_similarity</th>\n",
       "    </tr>\n",
       "    <tr>\n",
       "      <th>id</th>\n",
       "      <th></th>\n",
       "      <th></th>\n",
       "      <th></th>\n",
       "      <th></th>\n",
       "      <th></th>\n",
       "      <th></th>\n",
       "    </tr>\n",
       "  </thead>\n",
       "  <tbody>\n",
       "    <tr>\n",
       "      <th>0</th>\n",
       "      <td>[two, new, oldage, insurance, benefit, old, pe...</td>\n",
       "      <td>[police, disprove, bird, nest, congress, perso...</td>\n",
       "      <td>[old, got, congress, new, insurance, bird, old...</td>\n",
       "      <td>[1, 1, 0, 1, 1, 0, 1, 0, 0, 0, 0, 0, 1, 0, 1, ...</td>\n",
       "      <td>[1, 0, 1, 0, 0, 1, 0, 1, 1, 1, 1, 1, 0, 1, 0, ...</td>\n",
       "      <td>0.163299</td>\n",
       "    </tr>\n",
       "    <tr>\n",
       "      <th>1</th>\n",
       "      <td>[come, shenzhen, sooner, later, son, also, com...</td>\n",
       "      <td>[gdp, overtopped, hong, kong, shenzhen, clarif...</td>\n",
       "      <td>[kong, le, also, shenzhen, hong, clarified, co...</td>\n",
       "      <td>[1, 1, 1, 2, 1, 0, 2, 1, 0, 1, 0, 1, 1, 1, 0, ...</td>\n",
       "      <td>[1, 0, 0, 1, 1, 1, 0, 0, 1, 0, 1, 0, 1, 0, 1, ...</td>\n",
       "      <td>0.385758</td>\n",
       "    </tr>\n",
       "    <tr>\n",
       "      <th>2</th>\n",
       "      <td>[come, shenzhen, sooner, later, son, also, com...</td>\n",
       "      <td>[shenzhens, gdp, topped, hong, kong, last, yea...</td>\n",
       "      <td>[kong, bureau, billion, le, also, last, topped...</td>\n",
       "      <td>[1, 0, 0, 1, 1, 0, 0, 2, 0, 1, 2, 1, 0, 0, 1, ...</td>\n",
       "      <td>[1, 1, 1, 0, 0, 1, 1, 1, 1, 1, 0, 0, 1, 1, 0, ...</td>\n",
       "      <td>0.349927</td>\n",
       "    </tr>\n",
       "    <tr>\n",
       "      <th>3</th>\n",
       "      <td>[come, shenzhen, sooner, later, son, also, com...</td>\n",
       "      <td>[shenzhens, gdp, outstrips, hong, kong, shenzh...</td>\n",
       "      <td>[kong, bureau, narrowing, le, also, shenzhen, ...</td>\n",
       "      <td>[1, 0, 0, 1, 1, 2, 0, 1, 2, 0, 1, 1, 1, 1, 1, ...</td>\n",
       "      <td>[1, 1, 1, 0, 0, 1, 1, 1, 0, 1, 0, 0, 0, 1, 0, ...</td>\n",
       "      <td>0.314970</td>\n",
       "    </tr>\n",
       "    <tr>\n",
       "      <th>4</th>\n",
       "      <td>[come, shenzhen, sooner, later, son, also, com...</td>\n",
       "      <td>[shenzhens, gdp, overtakes, hong, kong, bureau...</td>\n",
       "      <td>[kong, bureau, le, also, shenzhen, shrink, she...</td>\n",
       "      <td>[1, 0, 1, 1, 2, 0, 0, 1, 0, 0, 2, 0, 1, 1, 1, ...</td>\n",
       "      <td>[1, 1, 0, 0, 0, 1, 1, 1, 1, 1, 0, 1, 0, 0, 0, ...</td>\n",
       "      <td>0.188982</td>\n",
       "    </tr>\n",
       "  </tbody>\n",
       "</table>\n",
       "</div>"
      ],
      "text/plain": [
       "                                            title1_en  \\\n",
       "id                                                      \n",
       "0   [two, new, oldage, insurance, benefit, old, pe...   \n",
       "1   [come, shenzhen, sooner, later, son, also, com...   \n",
       "2   [come, shenzhen, sooner, later, son, also, com...   \n",
       "3   [come, shenzhen, sooner, later, son, also, com...   \n",
       "4   [come, shenzhen, sooner, later, son, also, com...   \n",
       "\n",
       "                                            title2_en  \\\n",
       "id                                                      \n",
       "0   [police, disprove, bird, nest, congress, perso...   \n",
       "1   [gdp, overtopped, hong, kong, shenzhen, clarif...   \n",
       "2   [shenzhens, gdp, topped, hong, kong, last, yea...   \n",
       "3   [shenzhens, gdp, outstrips, hong, kong, shenzh...   \n",
       "4   [shenzhens, gdp, overtakes, hong, kong, bureau...   \n",
       "\n",
       "                                           BagOfWords  \\\n",
       "id                                                      \n",
       "0   [old, got, congress, new, insurance, bird, old...   \n",
       "1   [kong, le, also, shenzhen, hong, clarified, co...   \n",
       "2   [kong, bureau, billion, le, also, last, topped...   \n",
       "3   [kong, bureau, narrowing, le, also, shenzhen, ...   \n",
       "4   [kong, bureau, le, also, shenzhen, shrink, she...   \n",
       "\n",
       "                                                  TF1  \\\n",
       "id                                                      \n",
       "0   [1, 1, 0, 1, 1, 0, 1, 0, 0, 0, 0, 0, 1, 0, 1, ...   \n",
       "1   [1, 1, 1, 2, 1, 0, 2, 1, 0, 1, 0, 1, 1, 1, 0, ...   \n",
       "2   [1, 0, 0, 1, 1, 0, 0, 2, 0, 1, 2, 1, 0, 0, 1, ...   \n",
       "3   [1, 0, 0, 1, 1, 2, 0, 1, 2, 0, 1, 1, 1, 1, 1, ...   \n",
       "4   [1, 0, 1, 1, 2, 0, 0, 1, 0, 0, 2, 0, 1, 1, 1, ...   \n",
       "\n",
       "                                                  TF2  Cosine_similarity  \n",
       "id                                                                        \n",
       "0   [1, 0, 1, 0, 0, 1, 0, 1, 1, 1, 1, 1, 0, 1, 0, ...           0.163299  \n",
       "1   [1, 0, 0, 1, 1, 1, 0, 0, 1, 0, 1, 0, 1, 0, 1, ...           0.385758  \n",
       "2   [1, 1, 1, 0, 0, 1, 1, 1, 1, 1, 0, 0, 1, 1, 0, ...           0.349927  \n",
       "3   [1, 1, 1, 0, 0, 1, 1, 1, 0, 1, 0, 0, 0, 1, 0, ...           0.314970  \n",
       "4   [1, 1, 0, 0, 0, 1, 1, 1, 1, 1, 0, 1, 0, 0, 0, ...           0.188982  "
      ]
     },
     "execution_count": 39,
     "metadata": {},
     "output_type": "execute_result"
    }
   ],
   "source": [
    "df.head()"
   ]
  },
  {
   "cell_type": "code",
   "execution_count": 77,
   "metadata": {},
   "outputs": [],
   "source": [
    "## Creating a dataframe with Cosine_similarity and the lebel\n",
    "prob_dist = pd.concat([df.Cosine_similarity, data.label], axis=1)\n",
    "prob_dist = prob_dist.fillna(value=0)\n",
    "prob_dist = prob_dist.reset_index()[[\"Cosine_similarity\",\"label\"]]\n",
    "\n",
    "## Class wise data segregation\n",
    "unrelated =  prob_dist[prob_dist[\"label\"] == 'unrelated']\n",
    "agreed = prob_dist[prob_dist[\"label\"] == 'agreed']\n",
    "disagreed = prob_dist[prob_dist[\"label\"] == 'disagreed']"
   ]
  },
  {
   "cell_type": "markdown",
   "metadata": {},
   "source": [
    "## Cosine Similarity"
   ]
  },
  {
   "cell_type": "code",
   "execution_count": 42,
   "metadata": {},
   "outputs": [
    {
     "data": {
      "image/png": "[encoded data removed]",
      "text/plain": [
       "<Figure size 432x288 with 1 Axes>"
      ]
     },
     "metadata": {
      "needs_background": "light"
     },
     "output_type": "display_data"
    }
   ],
   "source": [
    "plt.hist(unrelated.Cosine_similarity/unrelated.Cosine_similarity.std() , label= \"Unrelated\", bins= 100)\n",
    "plt.hist(agreed.Cosine_similarity/agreed.Cosine_similarity.std(), label= \"Agreed\", bins= 100)\n",
    "plt.hist(disagreed.Cosine_similarity/disagreed.Cosine_similarity.std() , label= \"Disagreed\", bins= 100)\n",
    "plt.ylim(0,6500)\n",
    "plt.xlim(0.05,6)\n",
    "plt.xlabel(\"Normalized Cosine Similarity Score\")\n",
    "plt.ylabel(\"Frequency\")\n",
    "plt.title(\"Cosine Similarity Score distribution\")\n",
    "plt.legend()\n",
    "plt.savefig(\"Cosine_similarity_distribution.png\", dpi= 1000)"
   ]
  },
  {
   "cell_type": "markdown",
   "metadata": {},
   "source": [
    "## Classifier "
   ]
  },
  {
   "cell_type": "code",
   "execution_count": 44,
   "metadata": {},
   "outputs": [],
   "source": [
    "from sklearn.ensemble import RandomForestClassifier\n",
    "from sklearn.datasets import make_classification\n",
    "from sklearn.linear_model import LogisticRegression\n",
    "from sklearn.discriminant_analysis import LinearDiscriminantAnalysis\n",
    "\n",
    "\n",
    "def classifier(data, label, size):\n",
    "        \"\"\"Classification analysis is done using 4 different classifiers. Function returns the performance score\n",
    "        of each of the classifier\"\"\"\n",
    "        from sklearn.metrics import jaccard_similarity_score\n",
    "        \n",
    "        X_train, X_test, y_train, y_test = train_test_split(data, label, test_size=size, random_state=42)\n",
    "        \n",
    "        # Bayesian Classifier \n",
    "        gnb = GaussianNB()\n",
    "        gnb_clf = gnb.fit(X_train, y_train)\n",
    "        score1 = gnb_clf.score(X_test, y_test)\n",
    "        y_pred1 = gnb_clf.predict(X_test)\n",
    "        js1 = jaccard_similarity_score(y_test, y_pred1)\n",
    "        \n",
    "        # Logisitic Regression Classifier\n",
    "        logisitc_clf= LogisticRegression(random_state=0, solver='lbfgs', multi_class='multinomial')\n",
    "        logistic_clf = logisitc_clf.fit(X_train, y_train)\n",
    "        score2 = logistic_clf.score(X_test, y_test)\n",
    "        y_pred2 = logistic_clf.predict(X_test)\n",
    "        js2 = jaccard_similarity_score(y_test, y_pred2)\n",
    "        \n",
    "        # Random Forest Classifier \n",
    "        Randomforest_clf = RandomForestClassifier(n_estimators=100, max_depth=2,random_state=0)\n",
    "        rfc_clf = Randomforest_clf.fit(X_train, y_train)\n",
    "        score3 = rfc_clf.score(X_test, y_test)\n",
    "        y_pred3 = rfc_clf.predict(X_test)\n",
    "        js3 = jaccard_similarity_score(y_test, y_pred3)\n",
    "        \n",
    "        # LDA \n",
    "        LDA = LinearDiscriminantAnalysis()\n",
    "        LDA_clf = LDA.fit(X_train, y_train)\n",
    "        score4 = LDA_clf.score(X_test, y_test)\n",
    "        y_pred4 = LDA_clf.predict(X_test)\n",
    "        js4 = jaccard_similarity_score(y_test, y_pred4)\n",
    "\n",
    "        \n",
    "        print(\"Naive Bayes Classifier score:=  \" + str(score1)) #+ \"&\" + str(js1)), \\\n",
    "        print(\"Logistic Regression Classifier score:=  \" + str(score2))#+ \"&\" + str(js2)), \\\n",
    "        print(\"Random Forest Classifier score:=  \" + str(score3))#+ \"&\" + str(js3)), \\\n",
    "        print(\"LDA Classifier score:=  \" + str(score4))#+ \"&\" + str(js4))\n",
    "        \n",
    "        return gnb_clf, logistic_clf, rfc_clf, LDA_clf"
   ]
  },
  {
   "cell_type": "code",
   "execution_count": 45,
   "metadata": {},
   "outputs": [],
   "source": [
    "def ConfusionMatrix(y_true, y_pred, classes,normalize=True, title=None, cmap=plt.cm.Blues):\n",
    "    \"\"\"\n",
    "    This function prints and plots the confusion matrix.\n",
    "    Normalization can be applied by setting `normalize=True`.\n",
    "    \"\"\"\n",
    "    if not title:\n",
    "        if normalize:\n",
    "            title = 'Normalized confusion matrix'\n",
    "        else:\n",
    "            title = 'Confusion matrix, without normalization'\n",
    "            \n",
    "    # Compute confusion matrix\n",
    "    cm = confusion_matrix(y_true, y_pred)\n",
    "    # Only use the labels that appear in the data\n",
    "    classes = classes[unique_labels(y_true, y_pred)]\n",
    "    if normalize:\n",
    "        cm = cm.astype('float') / cm.sum(axis=1)[:, np.newaxis]\n",
    "        print(\"Normalized confusion matrix\")\n",
    "    else:\n",
    "        print('Confusion matrix, without normalization')\n",
    "\n",
    "    print(cm)\n",
    "    \n",
    "    fig, ax = plt.subplots()\n",
    "    im = ax.imshow(cm, interpolation='nearest', cmap=cmap)\n",
    "    ax.figure.colorbar(im, ax=ax)\n",
    "    # We want to show all ticks...\n",
    "    ax.set(xticks=np.arange(cm.shape[1]),\n",
    "           yticks=np.arange(cm.shape[0]),\n",
    "           # ... and label them with the respective list entries\n",
    "           xticklabels=classes, yticklabels=classes,\n",
    "           title=title,\n",
    "           ylabel='True label',\n",
    "           xlabel='Predicted label')\n",
    "\n",
    "    # Rotate the tick labels and set their alignment.\n",
    "    plt.setp(ax.get_xticklabels(), rotation=45, ha=\"right\",\n",
    "             rotation_mode=\"anchor\")\n",
    "\n",
    "    # Loop over data dimensions and create text annotations.\n",
    "    fmt = '.2f' if normalize else 'd'\n",
    "    thresh = cm.max() / 2.\n",
    "    for i in range(cm.shape[0]):\n",
    "        for j in range(cm.shape[1]):\n",
    "            ax.text(j, i, format(cm[i, j], fmt),\n",
    "                    ha=\"center\", va=\"center\",\n",
    "                    color=\"white\" if cm[i, j] > thresh else \"black\")\n",
    "    fig.tight_layout()\n",
    "    return ax"
   ]
  },
  {
   "cell_type": "code",
   "execution_count": 78,
   "metadata": {},
   "outputs": [],
   "source": [
    "Dummy = [1]*320492\n",
    "X = pd.concat([prob_dist[[\"Cosine_similarity\"]], pd.DataFrame(Dummy)], axis=1)\n",
    "X.columns = ['Cosine_similarity', \"Dummy\"]\n",
    "y = prob_dist[['label']]"
   ]
  },
  {
   "cell_type": "code",
   "execution_count": 80,
   "metadata": {},
   "outputs": [
    {
     "name": "stdout",
     "output_type": "stream",
     "text": [
      "Naive Bayes Classifier score:=  0.7586086392172036\n",
      "Logistic Regression Classifier score:=  0.7583340613806273\n",
      "Random Forest Classifier score:=  0.752118617625401\n",
      "LDA Classifier score:=  0.7580594835440511\n"
     ]
    },
    {
     "data": {
      "text/plain": [
       "(GaussianNB(priors=None, var_smoothing=1e-09),\n",
       " LogisticRegression(C=1.0, class_weight=None, dual=False, fit_intercept=True,\n",
       "           intercept_scaling=1, max_iter=100, multi_class='multinomial',\n",
       "           n_jobs=None, penalty='l2', random_state=0, solver='lbfgs',\n",
       "           tol=0.0001, verbose=0, warm_start=False),\n",
       " RandomForestClassifier(bootstrap=True, class_weight=None, criterion='gini',\n",
       "             max_depth=2, max_features='auto', max_leaf_nodes=None,\n",
       "             min_impurity_decrease=0.0, min_impurity_split=None,\n",
       "             min_samples_leaf=1, min_samples_split=2,\n",
       "             min_weight_fraction_leaf=0.0, n_estimators=100, n_jobs=None,\n",
       "             oob_score=False, random_state=0, verbose=0, warm_start=False),\n",
       " LinearDiscriminantAnalysis(n_components=None, priors=None, shrinkage=None,\n",
       "               solver='svd', store_covariance=False, tol=0.0001))"
      ]
     },
     "execution_count": 80,
     "metadata": {},
     "output_type": "execute_result"
    }
   ],
   "source": [
    "classifier(X,y , 0.25)"
   ]
  }
 ],
 "metadata": {
  "kernelspec": {
   "display_name": "Python 3",
   "language": "python",
   "name": "python3"
  },
  "language_info": {
   "codemirror_mode": {
    "name": "ipython",
    "version": 3
   },
   "file_extension": ".py",
   "mimetype": "text/x-python",
   "name": "python",
   "nbconvert_exporter": "python",
   "pygments_lexer": "ipython3",
   "version": "3.7.1"
  }
 },
 "nbformat": 4,
 "nbformat_minor": 2
}

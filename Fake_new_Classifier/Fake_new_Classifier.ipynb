{
 "cells": [
  {
   "cell_type": "markdown",
   "metadata": {},
   "source": [
    "# Fake News Classifier "
   ]
  },
  {
   "cell_type": "code",
   "execution_count": 1,
   "metadata": {},
   "outputs": [],
   "source": [
    "import numpy as np \n",
    "import pandas as pd\n",
    "import matplotlib.pyplot as plt\n",
    "import nltk \n",
    "from nltk import *\n",
    "from sklearn.feature_extraction.text import TfidfVectorizer\n",
    "from sklearn.feature_extraction.text import CountVectorizer\n",
    "from sklearn.model_selection import train_test_split\n",
    "from sklearn.naive_bayes import GaussianNB\n",
    "from nltk.corpus import stopwords\n",
    "from nltk.corpus import wordnet as wn\n",
    "from nltk.probability import FreqDist\n",
    "import string\n",
    "from sklearn.ensemble import RandomForestClassifier\n",
    "from sklearn.datasets import make_classification\n",
    "from sklearn.linear_model import LogisticRegression\n",
    "from sklearn.discriminant_analysis import LinearDiscriminantAnalysis\n",
    "import warnings\n",
    "warnings.filterwarnings('ignore')"
   ]
  },
  {
   "cell_type": "markdown",
   "metadata": {},
   "source": [
    "### Data Information\n",
    "\n",
    "Given the title of a fake news article A and the title of a coming news article B, participants are asked to classify B into one of the three categories.\n",
    "\n",
    "- agreed: B talks about the same fake news as A\n",
    "- disagreed: B refutes the fake news in A\n",
    "- unrelated: B is unrelated to A\n",
    "\n",
    "### Data fields\n",
    "\n",
    "- id - the id of each news pair.\n",
    "- tid1 - the id of fake news title 1.\n",
    "- tid2 - the id of news title 2.\n",
    "- title1_zh - the fake news title 1 in Chinese.\n",
    "- title2_zh - the news title 2 in Chinese.\n",
    "- title1_en - the fake news title 1 in English.\n",
    "- title2_en - the news title 2 in English.\n",
    "- label - indicates the relation between the news pair: agreed/disagreed/unrelated.\n",
    "- The English titles are machine translated from the related Chinese titles. This may help participants from all background to get better understanding of the datasets. Participants are highly recommended to use the Chinese version titles to finish the task.\n",
    "\n",
    "### File type\n",
    "\n",
    "- train.csv - training data contains 320,767 news pairs in both Chinese and English. This file provides the only data you can use to finish the task. Using external data is not allowed."
   ]
  },
  {
   "cell_type": "code",
   "execution_count": 2,
   "metadata": {},
   "outputs": [],
   "source": [
    "def load_data(path):\n",
    "    \n",
    "    data = pd.read_csv(path)\n",
    "    data = data.set_index(\"id\")\n",
    "    data = data.sort_index()\n",
    "    \n",
    "    return data "
   ]
  },
  {
   "cell_type": "code",
   "execution_count": 263,
   "metadata": {},
   "outputs": [
    {
     "data": {
      "text/html": [
       "<div>\n",
       "<style scoped>\n",
       "    .dataframe tbody tr th:only-of-type {\n",
       "        vertical-align: middle;\n",
       "    }\n",
       "\n",
       "    .dataframe tbody tr th {\n",
       "        vertical-align: top;\n",
       "    }\n",
       "\n",
       "    .dataframe thead th {\n",
       "        text-align: right;\n",
       "    }\n",
       "</style>\n",
       "<table border=\"1\" class=\"dataframe\">\n",
       "  <thead>\n",
       "    <tr style=\"text-align: right;\">\n",
       "      <th></th>\n",
       "      <th>tid1</th>\n",
       "      <th>tid2</th>\n",
       "      <th>title1_zh</th>\n",
       "      <th>title2_zh</th>\n",
       "      <th>title1_en</th>\n",
       "      <th>title2_en</th>\n",
       "      <th>label</th>\n",
       "    </tr>\n",
       "    <tr>\n",
       "      <th>id</th>\n",
       "      <th></th>\n",
       "      <th></th>\n",
       "      <th></th>\n",
       "      <th></th>\n",
       "      <th></th>\n",
       "      <th></th>\n",
       "      <th></th>\n",
       "    </tr>\n",
       "  </thead>\n",
       "  <tbody>\n",
       "    <tr>\n",
       "      <th>0</th>\n",
       "      <td>0</td>\n",
       "      <td>1</td>\n",
       "      <td>2017养老保险又新增两项，农村老人人人可申领，你领到了吗</td>\n",
       "      <td>警方辟谣“鸟巢大会每人领5万” 仍有老人坚持进京</td>\n",
       "      <td>There are two new old-age insurance benefits f...</td>\n",
       "      <td>Police disprove \"bird's nest congress each per...</td>\n",
       "      <td>unrelated</td>\n",
       "    </tr>\n",
       "    <tr>\n",
       "      <th>1</th>\n",
       "      <td>2</td>\n",
       "      <td>4</td>\n",
       "      <td>\"你不来深圳，早晚你儿子也要来\"，不出10年深圳人均GDP将超香港</td>\n",
       "      <td>GDP首超香港？深圳澄清：还差一点点……</td>\n",
       "      <td>\"If you do not come to Shenzhen, sooner or lat...</td>\n",
       "      <td>The GDP overtopped Hong Kong? Shenzhen clarifi...</td>\n",
       "      <td>unrelated</td>\n",
       "    </tr>\n",
       "    <tr>\n",
       "      <th>2</th>\n",
       "      <td>2</td>\n",
       "      <td>5</td>\n",
       "      <td>\"你不来深圳，早晚你儿子也要来\"，不出10年深圳人均GDP将超香港</td>\n",
       "      <td>去年深圳GDP首超香港？深圳统计局辟谣：还差611亿</td>\n",
       "      <td>\"If you do not come to Shenzhen, sooner or lat...</td>\n",
       "      <td>Shenzhen's GDP topped Hong Kong last year? She...</td>\n",
       "      <td>unrelated</td>\n",
       "    </tr>\n",
       "    <tr>\n",
       "      <th>3</th>\n",
       "      <td>2</td>\n",
       "      <td>3</td>\n",
       "      <td>\"你不来深圳，早晚你儿子也要来\"，不出10年深圳人均GDP将超香港</td>\n",
       "      <td>深圳GDP首超香港？深圳统计局辟谣：只是差距在缩小</td>\n",
       "      <td>\"If you do not come to Shenzhen, sooner or lat...</td>\n",
       "      <td>Shenzhen's GDP outstrips Hong Kong? Shenzhen S...</td>\n",
       "      <td>unrelated</td>\n",
       "    </tr>\n",
       "    <tr>\n",
       "      <th>4</th>\n",
       "      <td>2</td>\n",
       "      <td>8</td>\n",
       "      <td>\"你不来深圳，早晚你儿子也要来\"，不出10年深圳人均GDP将超香港</td>\n",
       "      <td>深圳GDP首超香港？统计局辟谣：未超但差距再度缩小</td>\n",
       "      <td>\"If you do not come to Shenzhen, sooner or lat...</td>\n",
       "      <td>Shenzhen's GDP overtakes Hong Kong? Bureau of ...</td>\n",
       "      <td>unrelated</td>\n",
       "    </tr>\n",
       "  </tbody>\n",
       "</table>\n",
       "</div>"
      ],
      "text/plain": [
       "    tid1  tid2                          title1_zh                   title2_zh  \\\n",
       "id                                                                              \n",
       "0      0     1      2017养老保险又新增两项，农村老人人人可申领，你领到了吗    警方辟谣“鸟巢大会每人领5万” 仍有老人坚持进京   \n",
       "1      2     4  \"你不来深圳，早晚你儿子也要来\"，不出10年深圳人均GDP将超香港        GDP首超香港？深圳澄清：还差一点点……   \n",
       "2      2     5  \"你不来深圳，早晚你儿子也要来\"，不出10年深圳人均GDP将超香港  去年深圳GDP首超香港？深圳统计局辟谣：还差611亿   \n",
       "3      2     3  \"你不来深圳，早晚你儿子也要来\"，不出10年深圳人均GDP将超香港   深圳GDP首超香港？深圳统计局辟谣：只是差距在缩小   \n",
       "4      2     8  \"你不来深圳，早晚你儿子也要来\"，不出10年深圳人均GDP将超香港   深圳GDP首超香港？统计局辟谣：未超但差距再度缩小   \n",
       "\n",
       "                                            title1_en  \\\n",
       "id                                                      \n",
       "0   There are two new old-age insurance benefits f...   \n",
       "1   \"If you do not come to Shenzhen, sooner or lat...   \n",
       "2   \"If you do not come to Shenzhen, sooner or lat...   \n",
       "3   \"If you do not come to Shenzhen, sooner or lat...   \n",
       "4   \"If you do not come to Shenzhen, sooner or lat...   \n",
       "\n",
       "                                            title2_en      label  \n",
       "id                                                                \n",
       "0   Police disprove \"bird's nest congress each per...  unrelated  \n",
       "1   The GDP overtopped Hong Kong? Shenzhen clarifi...  unrelated  \n",
       "2   Shenzhen's GDP topped Hong Kong last year? She...  unrelated  \n",
       "3   Shenzhen's GDP outstrips Hong Kong? Shenzhen S...  unrelated  \n",
       "4   Shenzhen's GDP overtakes Hong Kong? Bureau of ...  unrelated  "
      ]
     },
     "execution_count": 263,
     "metadata": {},
     "output_type": "execute_result"
    }
   ],
   "source": [
    "data = load_data(\"train.csv\")\n",
    "data.head()"
   ]
  },
  {
   "cell_type": "code",
   "execution_count": 4,
   "metadata": {},
   "outputs": [
    {
     "data": {
      "text/plain": [
       "{'agreed', 'disagreed', 'unrelated'}"
      ]
     },
     "execution_count": 4,
     "metadata": {},
     "output_type": "execute_result"
    }
   ],
   "source": [
    "# Number and Type of Classes. \n",
    "set(list(data.label))"
   ]
  },
  {
   "cell_type": "code",
   "execution_count": 389,
   "metadata": {},
   "outputs": [],
   "source": [
    "def min_max(data):\n",
    "    tid = list(set(data))\n",
    "    tid.sort()\n",
    "    tid_min = np.min(tid)\n",
    "    tid_max = np.max(tid)\n",
    "    tid_len = len(tid)\n",
    "    \n",
    "    print(\"The min value is : = \" + str(tid_min))\n",
    "    print(\"The max value is : = \" + str(tid_max))\n",
    "    print(\"The len value is : = \" + str(tid_len))\n",
    "    \n",
    "    return [tid_min , tid_max , tid_len]"
   ]
  },
  {
   "cell_type": "code",
   "execution_count": 6,
   "metadata": {},
   "outputs": [
    {
     "name": "stdout",
     "output_type": "stream",
     "text": [
      "The min value is : = 0\n",
      "The max value is : = 167563\n",
      "The len value is : = 69170\n"
     ]
    },
    {
     "data": {
      "text/plain": [
       "[0, 167563, 69170]"
      ]
     },
     "execution_count": 6,
     "metadata": {},
     "output_type": "execute_result"
    }
   ],
   "source": [
    "## Title One \n",
    "min_max(data.tid1)"
   ]
  },
  {
   "cell_type": "code",
   "execution_count": 7,
   "metadata": {},
   "outputs": [
    {
     "name": "stdout",
     "output_type": "stream",
     "text": [
      "The min value is : = 1\n",
      "The max value is : = 167558\n",
      "The len value is : = 138435\n"
     ]
    },
    {
     "data": {
      "text/plain": [
       "[1, 167558, 138435]"
      ]
     },
     "execution_count": 7,
     "metadata": {},
     "output_type": "execute_result"
    }
   ],
   "source": [
    "# Title two \n",
    "min_max(data.tid2)"
   ]
  },
  {
   "cell_type": "markdown",
   "metadata": {},
   "source": [
    "### Approach \n",
    "\n",
    "We have to come up with an idea to match Title 1 and Title 2  that can give a probability distribution describing the boundary condition for each of the three classes. The following are the ways we can do: -\n",
    "\n",
    "1) Let's try to find cosine similarity of the two titles. This can be our random variable and we can check whether it can help us to classify the random variable. \n",
    "\n",
    "-  Tokenize \n",
    "-  Form a uniform vector \n",
    "-  find the cosine of the two vector."
   ]
  },
  {
   "cell_type": "markdown",
   "metadata": {},
   "source": [
    "### Applying Cosine Similarity "
   ]
  },
  {
   "cell_type": "markdown",
   "metadata": {},
   "source": [
    "******************"
   ]
  },
  {
   "cell_type": "markdown",
   "metadata": {},
   "source": [
    "1) TextProcessing :- Three functions are created to find the final vector of each title. Combining all the three functions below, TextProcessing function is created.  \n",
    "- RemovePunctuation : Function to remove punctuaiton from the text documents \n",
    "- Tokenize : Function to tokenize the text document. Returns a list of array where each element is token. \n",
    "- StopWordRemoval : Function to remove the Stop words from the text documents. "
   ]
  },
  {
   "cell_type": "code",
   "execution_count": 67,
   "metadata": {},
   "outputs": [],
   "source": [
    "## Function to remove Punctuation from the string, even attached to the word. \n",
    "def RemovePunctuation(my_str):\n",
    "    punctuations = string.punctuation\n",
    "    no_punct = \"\"\n",
    "    for char in my_str:\n",
    "        if char not in punctuations:\n",
    "            no_punct = no_punct + char.lower()\n",
    "            \n",
    "    return no_punct"
   ]
  },
  {
   "cell_type": "code",
   "execution_count": 68,
   "metadata": {},
   "outputs": [],
   "source": [
    "## Tokenize the string\n",
    "def Tokenize(my_str):\n",
    "    text = my_str.split()\n",
    "    return text"
   ]
  },
  {
   "cell_type": "code",
   "execution_count": 99,
   "metadata": {},
   "outputs": [],
   "source": [
    "## Remove Stop Word \n",
    "import nltk\n",
    "from nltk.corpus import stopwords\n",
    "stopwords = set(stopwords.words('english'))\n",
    "def StopWordRemoval(my_str):\n",
    "    l = [word for word in my_str if word not in stopwords]\n",
    "    return l"
   ]
  },
  {
   "cell_type": "code",
   "execution_count": 131,
   "metadata": {},
   "outputs": [],
   "source": [
    "def TextProcessing(text):\n",
    "    \n",
    "    text = RemovePunctuation(text)\n",
    "    text = Tokenize(text)\n",
    "    text = StopWordRemoval(text)\n",
    "    \n",
    "    return text"
   ]
  },
  {
   "cell_type": "markdown",
   "metadata": {},
   "source": [
    "2) Dictionary :- This function create a set of all the unique words (tokens) in the two titles (title 1 and title 2). We shall use this to create a seperate column in the dataframe consisting of all the unique words in the two titles."
   ]
  },
  {
   "cell_type": "code",
   "execution_count": 249,
   "metadata": {},
   "outputs": [],
   "source": [
    "def Dictionary(list_str):\n",
    "    dic =  list(set(list_str))\n",
    "    return dic"
   ]
  },
  {
   "cell_type": "markdown",
   "metadata": {},
   "source": [
    "3) TermFrequency :- This function will find the frequency of each word of the dictionary in the given list. This function returns a  frequency vector of a size equivalent to the size of the dictionary. In can take a nested list in the form of Numpy array. "
   ]
  },
  {
   "cell_type": "code",
   "execution_count": 390,
   "metadata": {},
   "outputs": [],
   "source": [
    "def TermFrequency(dictionary, text ):\n",
    "    length = len(dictionary)\n",
    "    freq_list = []\n",
    "    for ii in range(length):\n",
    "        dic_list = dictionary[ii]\n",
    "        text_list = text[ii]\n",
    "        freq = []\n",
    "        for i in range(len(dic_list)):\n",
    "            freq.append(text_list.count(dic_list[i]))\n",
    "        freq_list.append(np.array(freq))\n",
    "        \n",
    "    return np.array(freq_list)"
   ]
  },
  {
   "cell_type": "markdown",
   "metadata": {},
   "source": [
    "4) L2 and Cosine : L2 function is calculate the L2 norm of the vector on the other end, Cosine is calculate the cosine of the angle between the two vectors "
   ]
  },
  {
   "cell_type": "code",
   "execution_count": 344,
   "metadata": {},
   "outputs": [],
   "source": [
    "def L2(vector):\n",
    "    norm_value = np.linalg.norm(vector)\n",
    "    return norm_value"
   ]
  },
  {
   "cell_type": "code",
   "execution_count": 366,
   "metadata": {},
   "outputs": [],
   "source": [
    "def Cosine(fr1, fr2):\n",
    "    cos = np.dot(fr1, fr2)/(L2(fr1)*L2(fr2))\n",
    "    return cos"
   ]
  },
  {
   "cell_type": "markdown",
   "metadata": {},
   "source": [
    "**********************"
   ]
  },
  {
   "cell_type": "markdown",
   "metadata": {},
   "source": [
    "##### Applying the above define funcitons on dataset"
   ]
  },
  {
   "cell_type": "code",
   "execution_count": 402,
   "metadata": {},
   "outputs": [],
   "source": [
    "#\"\"\"Creating another dataframe in to process the text \"\"\"\n",
    "df = data[[\"title1_en\", \"title2_en\"]]"
   ]
  },
  {
   "cell_type": "code",
   "execution_count": 403,
   "metadata": {},
   "outputs": [],
   "source": [
    "#\"\"\"Applying TextProcessing function\"\"\"\n",
    "df = df.applymap(lambda x: TextProcessing(x))"
   ]
  },
  {
   "cell_type": "code",
   "execution_count": 404,
   "metadata": {},
   "outputs": [],
   "source": [
    "#\"\"\"Creating Dictionary column by adding tile1_en and title2_en and applying Dictionary function to\"\"\"\n",
    "df[\"Dictionary\"] = df['title1_en'] + df[\"title2_en\"]\n",
    "df.Dictionary = df.Dictionary.map(Dictionary)"
   ]
  },
  {
   "cell_type": "code",
   "execution_count": 406,
   "metadata": {},
   "outputs": [],
   "source": [
    "# Creating \"TF1\" and \"TF2\" variable containing a list of Frequency for each word in title1 and title 2 and\n",
    "# adding a column for Cosine Similarity. \n",
    "\n",
    "df[\"TF1\"] = TermFrequency(df.Dictionary.values, df.title1_en.values)\n",
    "df[\"TF2\"] = TermFrequency(df.Dictionary.values, df.title2_en.values)\n",
    "df[\"Cosine_similarity\"] = np.vectorize(Cosine)(df[\"TF1\"], df[\"TF2\"])"
   ]
  },
  {
   "cell_type": "code",
   "execution_count": 407,
   "metadata": {},
   "outputs": [],
   "source": [
    "## Creating a dataframe with Cosine_similarity and the lebel\n",
    "\n",
    "prob_dist = pd.concat([df.Cosine_similarity, data.label], axis=1)\n",
    "unrelated =  prob_dist[prob_dist[\"label\"] == 'unrelated']\n",
    "agreed = prob_dist[prob_dist[\"label\"] == 'agreed']\n",
    "disagreed = prob_dist[prob_dist[\"label\"] == 'disagreed']"
   ]
  },
  {
   "cell_type": "code",
   "execution_count": 408,
   "metadata": {},
   "outputs": [
    {
     "data": {
      "text/plain": [
       "<matplotlib.legend.Legend at 0x1b69595be0>"
      ]
     },
     "execution_count": 408,
     "metadata": {},
     "output_type": "execute_result"
    },
    {
     "data": {
      "image/png": "[encoded data removed]",
      "text/plain": [
       "<Figure size 432x288 with 1 Axes>"
      ]
     },
     "metadata": {
      "needs_background": "light"
     },
     "output_type": "display_data"
    }
   ],
   "source": [
    "plt.hist(unrelated.Cosine_similarity , label= \"Unrelated\")\n",
    "plt.hist(agreed.Cosine_similarity, label= \"Agreed\")\n",
    "plt.hist(disagreed.Cosine_similarity , label= \"Disagreed\")\n",
    "plt.ylim(0,20000)\n",
    "plt.legend()"
   ]
  },
  {
   "cell_type": "code",
   "execution_count": 409,
   "metadata": {},
   "outputs": [
    {
     "data": {
      "text/html": [
       "<div>\n",
       "<style scoped>\n",
       "    .dataframe tbody tr th:only-of-type {\n",
       "        vertical-align: middle;\n",
       "    }\n",
       "\n",
       "    .dataframe tbody tr th {\n",
       "        vertical-align: top;\n",
       "    }\n",
       "\n",
       "    .dataframe thead th {\n",
       "        text-align: right;\n",
       "    }\n",
       "</style>\n",
       "<table border=\"1\" class=\"dataframe\">\n",
       "  <thead>\n",
       "    <tr style=\"text-align: right;\">\n",
       "      <th></th>\n",
       "      <th>title1_en</th>\n",
       "      <th>title2_en</th>\n",
       "      <th>Dictionary</th>\n",
       "      <th>TF1</th>\n",
       "      <th>TF2</th>\n",
       "      <th>Cosine_similarity</th>\n",
       "    </tr>\n",
       "    <tr>\n",
       "      <th>id</th>\n",
       "      <th></th>\n",
       "      <th></th>\n",
       "      <th></th>\n",
       "      <th></th>\n",
       "      <th></th>\n",
       "      <th></th>\n",
       "    </tr>\n",
       "  </thead>\n",
       "  <tbody>\n",
       "    <tr>\n",
       "      <th>0</th>\n",
       "      <td>[two, new, oldage, insurance, benefits, old, p...</td>\n",
       "      <td>[police, disprove, birds, nest, congress, pers...</td>\n",
       "      <td>[beijing, benefits, insist, birds, nest, polic...</td>\n",
       "      <td>[0, 1, 0, 0, 0, 0, 0, 1, 1, 0, 1, 1, 0, 1, 1, ...</td>\n",
       "      <td>[1, 0, 1, 1, 1, 1, 1, 0, 1, 1, 0, 0, 1, 0, 0, ...</td>\n",
       "      <td>0.163299</td>\n",
       "    </tr>\n",
       "    <tr>\n",
       "      <th>1</th>\n",
       "      <td>[come, shenzhen, sooner, later, son, also, com...</td>\n",
       "      <td>[gdp, overtopped, hong, kong, shenzhen, clarif...</td>\n",
       "      <td>[son, per, years, kong, sooner, capita, bit, e...</td>\n",
       "      <td>[1, 1, 1, 1, 1, 1, 0, 1, 2, 1, 1, 2, 1, 1, 0, ...</td>\n",
       "      <td>[0, 0, 0, 1, 0, 0, 1, 0, 1, 1, 0, 0, 1, 0, 1, ...</td>\n",
       "      <td>0.385758</td>\n",
       "    </tr>\n",
       "    <tr>\n",
       "      <th>2</th>\n",
       "      <td>[come, shenzhen, sooner, later, son, also, com...</td>\n",
       "      <td>[shenzhens, gdp, topped, hong, kong, last, yea...</td>\n",
       "      <td>[son, billion, per, shenzhens, years, kong, so...</td>\n",
       "      <td>[1, 0, 1, 0, 1, 1, 1, 1, 1, 2, 0, 0, 0, 1, 1, ...</td>\n",
       "      <td>[0, 1, 0, 1, 0, 1, 0, 0, 0, 1, 1, 1, 1, 1, 0, ...</td>\n",
       "      <td>0.291606</td>\n",
       "    </tr>\n",
       "    <tr>\n",
       "      <th>3</th>\n",
       "      <td>[come, shenzhen, sooner, later, son, also, com...</td>\n",
       "      <td>[shenzhens, gdp, outstrips, hong, kong, shenzh...</td>\n",
       "      <td>[son, per, shenzhens, years, kong, sooner, cap...</td>\n",
       "      <td>[1, 1, 0, 1, 1, 1, 1, 1, 2, 0, 0, 0, 1, 1, 0, ...</td>\n",
       "      <td>[0, 0, 1, 0, 1, 0, 0, 0, 1, 1, 1, 1, 1, 0, 1, ...</td>\n",
       "      <td>0.314970</td>\n",
       "    </tr>\n",
       "    <tr>\n",
       "      <th>4</th>\n",
       "      <td>[come, shenzhen, sooner, later, son, also, com...</td>\n",
       "      <td>[shenzhens, gdp, overtakes, hong, kong, bureau...</td>\n",
       "      <td>[son, shrinks, per, rumor, shenzhens, years, k...</td>\n",
       "      <td>[1, 0, 1, 0, 0, 1, 1, 1, 1, 1, 2, 0, 0, 1, 0, ...</td>\n",
       "      <td>[0, 1, 0, 1, 1, 0, 1, 0, 0, 0, 0, 1, 1, 1, 1, ...</td>\n",
       "      <td>0.188982</td>\n",
       "    </tr>\n",
       "  </tbody>\n",
       "</table>\n",
       "</div>"
      ],
      "text/plain": [
       "                                            title1_en  \\\n",
       "id                                                      \n",
       "0   [two, new, oldage, insurance, benefits, old, p...   \n",
       "1   [come, shenzhen, sooner, later, son, also, com...   \n",
       "2   [come, shenzhen, sooner, later, son, also, com...   \n",
       "3   [come, shenzhen, sooner, later, son, also, com...   \n",
       "4   [come, shenzhen, sooner, later, son, also, com...   \n",
       "\n",
       "                                            title2_en  \\\n",
       "id                                                      \n",
       "0   [police, disprove, birds, nest, congress, pers...   \n",
       "1   [gdp, overtopped, hong, kong, shenzhen, clarif...   \n",
       "2   [shenzhens, gdp, topped, hong, kong, last, yea...   \n",
       "3   [shenzhens, gdp, outstrips, hong, kong, shenzh...   \n",
       "4   [shenzhens, gdp, overtakes, hong, kong, bureau...   \n",
       "\n",
       "                                           Dictionary  \\\n",
       "id                                                      \n",
       "0   [beijing, benefits, insist, birds, nest, polic...   \n",
       "1   [son, per, years, kong, sooner, capita, bit, e...   \n",
       "2   [son, billion, per, shenzhens, years, kong, so...   \n",
       "3   [son, per, shenzhens, years, kong, sooner, cap...   \n",
       "4   [son, shrinks, per, rumor, shenzhens, years, k...   \n",
       "\n",
       "                                                  TF1  \\\n",
       "id                                                      \n",
       "0   [0, 1, 0, 0, 0, 0, 0, 1, 1, 0, 1, 1, 0, 1, 1, ...   \n",
       "1   [1, 1, 1, 1, 1, 1, 0, 1, 2, 1, 1, 2, 1, 1, 0, ...   \n",
       "2   [1, 0, 1, 0, 1, 1, 1, 1, 1, 2, 0, 0, 0, 1, 1, ...   \n",
       "3   [1, 1, 0, 1, 1, 1, 1, 1, 2, 0, 0, 0, 1, 1, 0, ...   \n",
       "4   [1, 0, 1, 0, 0, 1, 1, 1, 1, 1, 2, 0, 0, 1, 0, ...   \n",
       "\n",
       "                                                  TF2  Cosine_similarity  \n",
       "id                                                                        \n",
       "0   [1, 0, 1, 1, 1, 1, 1, 0, 1, 1, 0, 0, 1, 0, 0, ...           0.163299  \n",
       "1   [0, 0, 0, 1, 0, 0, 1, 0, 1, 1, 0, 0, 1, 0, 1, ...           0.385758  \n",
       "2   [0, 1, 0, 1, 0, 1, 0, 0, 0, 1, 1, 1, 1, 1, 0, ...           0.291606  \n",
       "3   [0, 0, 1, 0, 1, 0, 0, 0, 1, 1, 1, 1, 1, 0, 1, ...           0.314970  \n",
       "4   [0, 1, 0, 1, 1, 0, 1, 0, 0, 0, 0, 1, 1, 1, 1, ...           0.188982  "
      ]
     },
     "execution_count": 409,
     "metadata": {},
     "output_type": "execute_result"
    }
   ],
   "source": [
    "df.head()"
   ]
  },
  {
   "cell_type": "code",
   "execution_count": 410,
   "metadata": {},
   "outputs": [
    {
     "data": {
      "text/html": [
       "<div>\n",
       "<style scoped>\n",
       "    .dataframe tbody tr th:only-of-type {\n",
       "        vertical-align: middle;\n",
       "    }\n",
       "\n",
       "    .dataframe tbody tr th {\n",
       "        vertical-align: top;\n",
       "    }\n",
       "\n",
       "    .dataframe thead th {\n",
       "        text-align: right;\n",
       "    }\n",
       "</style>\n",
       "<table border=\"1\" class=\"dataframe\">\n",
       "  <thead>\n",
       "    <tr style=\"text-align: right;\">\n",
       "      <th></th>\n",
       "      <th>Cosine_similarity</th>\n",
       "      <th>label</th>\n",
       "    </tr>\n",
       "    <tr>\n",
       "      <th>id</th>\n",
       "      <th></th>\n",
       "      <th></th>\n",
       "    </tr>\n",
       "  </thead>\n",
       "  <tbody>\n",
       "    <tr>\n",
       "      <th>0</th>\n",
       "      <td>0.163299</td>\n",
       "      <td>unrelated</td>\n",
       "    </tr>\n",
       "    <tr>\n",
       "      <th>1</th>\n",
       "      <td>0.385758</td>\n",
       "      <td>unrelated</td>\n",
       "    </tr>\n",
       "    <tr>\n",
       "      <th>2</th>\n",
       "      <td>0.291606</td>\n",
       "      <td>unrelated</td>\n",
       "    </tr>\n",
       "    <tr>\n",
       "      <th>3</th>\n",
       "      <td>0.314970</td>\n",
       "      <td>unrelated</td>\n",
       "    </tr>\n",
       "    <tr>\n",
       "      <th>4</th>\n",
       "      <td>0.188982</td>\n",
       "      <td>unrelated</td>\n",
       "    </tr>\n",
       "  </tbody>\n",
       "</table>\n",
       "</div>"
      ],
      "text/plain": [
       "    Cosine_similarity      label\n",
       "id                              \n",
       "0            0.163299  unrelated\n",
       "1            0.385758  unrelated\n",
       "2            0.291606  unrelated\n",
       "3            0.314970  unrelated\n",
       "4            0.188982  unrelated"
      ]
     },
     "execution_count": 410,
     "metadata": {},
     "output_type": "execute_result"
    }
   ],
   "source": [
    "prob_dist.head()"
   ]
  }
 ],
 "metadata": {
  "kernelspec": {
   "display_name": "Python 3",
   "language": "python",
   "name": "python3"
  },
  "language_info": {
   "codemirror_mode": {
    "name": "ipython",
    "version": 3
   },
   "file_extension": ".py",
   "mimetype": "text/x-python",
   "name": "python",
   "nbconvert_exporter": "python",
   "pygments_lexer": "ipython3",
   "version": "3.7.1"
  }
 },
 "nbformat": 4,
 "nbformat_minor": 2
}

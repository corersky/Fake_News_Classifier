{
 "cells": [
  {
   "cell_type": "markdown",
   "metadata": {},
   "source": [
    "# Modeling Text Data\n",
    "\n",
    "Text data available is unstructured data and need to be converted in structured data to apply machine leanring.\n",
    "This code is to convert the text data from unstructured data to semi-structured data. The Output of this code will be the Term/Document Matrix. "
   ]
  },
  {
   "cell_type": "code",
   "execution_count": 3,
   "metadata": {},
   "outputs": [],
   "source": [
    "import nltk\n",
    "from nltk.tokenize import word_tokenize\n",
    "from nltk.stem.snowball import SnowballStemmer\n",
    "from nltk.stem import WordNetLemmatizer\n",
    "from nltk.corpus import stopwords\n",
    "from nltk.corpus import wordnet as wn\n",
    "from nltk.probability import FreqDist\n",
    "import string\n",
    "import numpy as np\n",
    "import pandas as pd"
   ]
  },
  {
   "cell_type": "code",
   "execution_count": 4,
   "metadata": {},
   "outputs": [
    {
     "name": "stderr",
     "output_type": "stream",
     "text": [
      "[nltk_data] Downloading package punkt to\n",
      "[nltk_data]     /Users/shirishpandagare/nltk_data...\n",
      "[nltk_data]   Unzipping tokenizers/punkt.zip.\n",
      "[nltk_data] Downloading package averaged_perceptron_tagger to\n",
      "[nltk_data]     /Users/shirishpandagare/nltk_data...\n",
      "[nltk_data]   Unzipping taggers/averaged_perceptron_tagger.zip.\n",
      "[nltk_data] Downloading package stopwords to\n",
      "[nltk_data]     /Users/shirishpandagare/nltk_data...\n",
      "[nltk_data]   Unzipping corpora/stopwords.zip.\n",
      "[nltk_data] Downloading package wordnet to\n",
      "[nltk_data]     /Users/shirishpandagare/nltk_data...\n",
      "[nltk_data]   Unzipping corpora/wordnet.zip.\n"
     ]
    },
    {
     "data": {
      "text/plain": [
       "True"
      ]
     },
     "execution_count": 4,
     "metadata": {},
     "output_type": "execute_result"
    }
   ],
   "source": [
    "nltk.download('punkt')\n",
    "nltk.download('averaged_perceptron_tagger')\n",
    "nltk.download('stopwords')\n",
    "nltk.download('wordnet')\n",
    "\n",
    "## The NLTK package uses several supporting files. These need to be\n",
    "## downloaded. "
   ]
  },
  {
   "cell_type": "code",
   "execution_count": 19,
   "metadata": {},
   "outputs": [],
   "source": [
    "## Read Document( File has been downloaded from http://www.gutenberg.org.)\n",
    "with open (\"41481.txt\", \"r\") as text_file:\n",
    "    adoc = text_file.read()"
   ]
  },
  {
   "cell_type": "markdown",
   "metadata": {},
   "source": [
    "## Parse\n",
    "\n",
    "Parsing a document consists of several important steps\n",
    "1. Tokenization\n",
    "2. Mapping Synonyms \n",
    "3. Tagging terms with Parts od Speech\n",
    "4. Entity Extraction"
   ]
  },
  {
   "cell_type": "code",
   "execution_count": 10,
   "metadata": {},
   "outputs": [
    {
     "name": "stdout",
     "output_type": "stream",
     "text": [
      "\n",
      " Document contains a total of 84585 terms.\n"
     ]
    }
   ],
   "source": [
    "# Tokenization \n",
    "\n",
    "## Text must be in lower case and unwanted punctuation shall be \n",
    "## removed. \n",
    "\n",
    "#Convert to all lower case - required. \n",
    "a_discussion = (\"%s\" %adoc).lower()\n",
    "\n",
    "#Remove unwanted punctuation\n",
    "a_discussion = a_discussion.replace(\"-\", \" \")\n",
    "a_discussion = a_discussion.replace(\"_\", \" \")\n",
    "a_discussion = a_discussion.replace(\",\", \" \")\n",
    "a_discussion = a_discussion.replace(\"nt\", \"not\")\n",
    "\n",
    "\n",
    "#### TOKENIZE ####\n",
    "\n",
    "tokens = word_tokenize(a_discussion)\n",
    "tokens = [word.replace(',','') for word in tokens]\n",
    "tokens = [word for word in tokens if('*' not in word) and \\\n",
    "         (\"''\" != word) and (\"``\" != word) and\\\n",
    "         (word!='description') and (word !='dtype') \\\n",
    "            and (word != 'object') and (word!=\"'s\")]\n",
    "print(\"\\n Document contains a total of\", len(tokens), \"terms.\")"
   ]
  },
  {
   "cell_type": "code",
   "execution_count": 14,
   "metadata": {},
   "outputs": [
    {
     "data": {
      "image/png": "[encoded data removed]",
      "text/plain": [
       "<Figure size 432x288 with 1 Axes>"
      ]
     },
     "metadata": {
      "needs_background": "light"
     },
     "output_type": "display_data"
    },
    {
     "name": "stdout",
     "output_type": "stream",
     "text": [
      "NN             :15395\n",
      "IN             :9415\n",
      "DT             :9180\n",
      "VBD            :5972\n",
      "JJ             :5600\n",
      "PRP            :4933\n",
      "RB             :4278\n",
      "NNS            :3508\n",
      "VB             :3196\n",
      "CC             :2547\n",
      "VBN            :2138\n",
      "PRP$           :1934\n",
      "TO             :1792\n",
      "VBG            :1637\n",
      "VBP            :1309\n",
      "MD             :1069\n",
      "VBZ            : 906\n",
      "CD             : 732\n",
      "RP             : 457\n",
      "WDT            : 442\n",
      "WRB            : 354\n",
      "WP             : 296\n",
      "EX             : 253\n",
      "JJR            : 160\n",
      "JJS            : 140\n",
      "''             :  93\n",
      "RBR            :  82\n",
      "PDT            :  75\n",
      "POS            :  41\n",
      "UH             :  34\n",
      "(              :  25\n",
      ")              :  25\n",
      "RBS            :  21\n",
      "NNP            :  11\n",
      "$              :  11\n",
      "WP$            :   8\n",
      "FW             :   5\n",
      "#              :   1\n"
     ]
    }
   ],
   "source": [
    "# Synonyms and POS Tagging \n",
    "\n",
    "# POS Tagging \n",
    "\n",
    "tagged_tokens = nltk.pos_tag(tokens)\n",
    "pos_list = [word[1] for word in tagged_tokens if word[1] != \":\" and \\\n",
    "word[1] != \".\"]\n",
    "pos_dist = FreqDist(pos_list)\n",
    "pos_dist.plot(title=\"Parts of Speech\")\n",
    "for pos, frequency in pos_dist.most_common(pos_dist.N()):\n",
    "    print('{:<15s}:{:>4d}'.format(pos, frequency))\n"
   ]
  },
  {
   "cell_type": "markdown",
   "metadata": {},
   "source": [
    "## Filter \n",
    "\n",
    "Parsing produces a list of terms along with their parts of speech and frequency for each document. Filtering include the final two steps:\n",
    "1. Removing Stop Words\n",
    "2. Stemming"
   ]
  },
  {
   "cell_type": "code",
   "execution_count": 15,
   "metadata": {},
   "outputs": [
    {
     "name": "stdout",
     "output_type": "stream",
     "text": [
      "\n",
      "Corpus contains 10332  unique terms after removing stop words.\n",
      "\n",
      "one            : 231\n",
      "said           : 212\n",
      "could          : 177\n",
      "n't            : 166\n",
      "us             : 161\n",
      "two            : 160\n",
      "like           : 150\n",
      "would          : 147\n",
      "man            : 128\n",
      "back           : 127\n",
      "came           : 125\n",
      "upon           : 116\n",
      "derek          : 115\n",
      "time           : 113\n",
      "see            : 113\n",
      "eyes           : 108\n",
      "tommy          : 106\n",
      "tanks          : 103\n",
      "feet           :  96\n",
      "way            :  95\n"
     ]
    }
   ],
   "source": [
    "# Remove stop words\n",
    "stop = stopwords.words('english') + list(string.punctuation)\n",
    "stop_tokens = [word for word in tagged_tokens if word[0] not in stop]\n",
    "# Remove single character words and simple punctuation\n",
    "stop_tokens = [word for word in stop_tokens if len(word) > 1]\n",
    "# Remove numbers and possive \"'s\"\n",
    "stop_tokens = [word for word in stop_tokens \\\n",
    "if (not word[0].replace('.','',1).isnumeric()) and \\\n",
    "word[0]!=\"'s\" ]\n",
    "token_dist = FreqDist(stop_tokens)\n",
    "print(\"\\nCorpus contains\", len(token_dist.items()), \\\n",
    "\" unique terms after removing stop words.\\n\")\n",
    "for word, frequency in token_dist.most_common(20):\n",
    "    print('{:<15s}:{:>4d}'.format(word[0], frequency))"
   ]
  },
  {
   "cell_type": "markdown",
   "metadata": {},
   "source": [
    "## Lemmatization & Stemming "
   ]
  },
  {
   "cell_type": "code",
   "execution_count": 16,
   "metadata": {},
   "outputs": [
    {
     "name": "stdout",
     "output_type": "stream",
     "text": [
      "\n",
      "Corpus contains 6506  unique terms after Stemming.\n",
      "\n"
     ]
    }
   ],
   "source": [
    "# Lemmatization - Stemming with POS\n",
    "# WordNet Lematization Stems using POS\n",
    "stemmer = SnowballStemmer(\"english\")\n",
    "wn_tags = {'N':wn.NOUN, 'J':wn.ADJ, 'V':wn.VERB, 'R':wn.ADV}\n",
    "wnl = WordNetLemmatizer()\n",
    "stemmed_tokens = []\n",
    "for token in stop_tokens:\n",
    "    term = token[0]\n",
    "    pos = token[1]\n",
    "    pos = pos[0]\n",
    "    try:\n",
    "        pos = wn_tags[pos]\n",
    "        stemmed_tokens.append(wnl.lemmatize(term, pos=pos))\n",
    "    except:\n",
    "        stemmed_tokens.append(stemmer.stem(term))\n",
    "# Get token distribution\n",
    "fdist = FreqDist(stemmed_tokens)\n",
    "print(\"\\nCorpus contains\", len(fdist.items()), \\\n",
    "                        \" unique terms after Stemming.\\n\")"
   ]
  },
  {
   "cell_type": "markdown",
   "metadata": {},
   "source": [
    "## The Term/Document Matrix"
   ]
  },
  {
   "cell_type": "code",
   "execution_count": 18,
   "metadata": {},
   "outputs": [
    {
     "name": "stdout",
     "output_type": "stream",
     "text": [
      "one            : 268\n",
      "say            : 266\n",
      "inoto          : 244\n",
      "come           : 224\n",
      "see            : 187\n",
      "get            : 186\n",
      "tank           : 182\n",
      "could          : 177\n",
      "go             : 176\n",
      "derek          : 173\n",
      "back           : 170\n",
      "tommy          : 168\n",
      "n't            : 166\n",
      "us             : 161\n",
      "two            : 160\n",
      "like           : 160\n",
      "make           : 151\n",
      "would          : 147\n",
      "dodd           : 143\n",
      "know           : 140\n"
     ]
    },
    {
     "data": {
      "image/png": "[encoded data removed]",
      "text/plain": [
       "<Figure size 432x288 with 1 Axes>"
      ]
     },
     "metadata": {
      "needs_background": "light"
     },
     "output_type": "display_data"
    }
   ],
   "source": [
    "for word, freq in fdist.most_common(20):\n",
    "    print('{:<15s}:{:>4d}'.format(word, freq))\n",
    "fdist_top = nltk.probability.FreqDist()\n",
    "for word, freq in fdist.most_common(20):\n",
    "    fdist_top[word] = freq\n",
    "fdist_top.plot()"
   ]
  },
  {
   "cell_type": "code",
   "execution_count": null,
   "metadata": {},
   "outputs": [],
   "source": []
  }
 ],
 "metadata": {
  "kernelspec": {
   "display_name": "Python 3",
   "language": "python",
   "name": "python3"
  },
  "language_info": {
   "codemirror_mode": {
    "name": "ipython",
    "version": 3
   },
   "file_extension": ".py",
   "mimetype": "text/x-python",
   "name": "python",
   "nbconvert_exporter": "python",
   "pygments_lexer": "ipython3",
   "version": "3.6.6"
  }
 },
 "nbformat": 4,
 "nbformat_minor": 2
}
